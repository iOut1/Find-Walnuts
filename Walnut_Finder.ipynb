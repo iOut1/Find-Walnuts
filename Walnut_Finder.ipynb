{
  "nbformat": 4,
  "nbformat_minor": 0,
  "metadata": {
    "colab": {
      "name": "Walnut Finder.ipynb",
      "provenance": [],
      "collapsed_sections": []
    },
    "kernelspec": {
      "name": "python3",
      "display_name": "Python 3"
    },
    "language_info": {
      "name": "python"
    }
  },
  "cells": [
    {
      "cell_type": "code",
      "source": [
        "# NOTE: This program requires the user to have an enabled camera #"
      ],
      "metadata": {
        "id": "vppQlZ46RrJO"
      },
      "execution_count": null,
      "outputs": []
    },
    {
      "cell_type": "code",
      "source": [
        "# Imports libraries required for model #\n",
        "from imutils.video import VideoStream\n",
        "from imutils.video import FPS\n",
        "import imutils\n",
        "import numpy as np\n",
        "import cv2\n",
        "import time"
      ],
      "metadata": {
        "id": "OZggrBbrfWX8"
      },
      "execution_count": null,
      "outputs": []
    },
    {
      "cell_type": "code",
      "source": [
        "# Creates AI Learning Model #\n",
        "\n",
        "# Have 2,000 images of walnuts in an XML file called 'walnut.xml', the model will learn from these #\n",
        "model = cv2.CascadeClassifer('walnut.xml')"
      ],
      "metadata": {
        "id": "WMFgTer8WLmo"
      },
      "execution_count": null,
      "outputs": []
    },
    {
      "cell_type": "code",
      "source": [
        "# Creates and stars the video stream for detection #\n",
        "vs = VideoStream(src=0).start()\n",
        "time.sleep(2.0)\n",
        "fps = FPS().start()"
      ],
      "metadata": {
        "id": "YFyZnV_CiY94"
      },
      "execution_count": null,
      "outputs": []
    },
    {
      "cell_type": "code",
      "source": [
        "# Continuasly reformats and reads current frame of video #\n",
        "while True:\n",
        "  # Reads frame #\n",
        "  frame = vs.read()\n",
        "  \n",
        "  # Creates a grey-scale and colored frame of the current frame  #\n",
        "  frame = imutils.resize(frame, width = 400)\n",
        "  frame = cv2.cvtColor(frame, cv2.COLOR_BGR2GRAY)\n",
        "\n",
        "  # Attempts to find a walnut and returns the number of walnuts found #\n",
        "  found = model.detectMultiScale(frame, minSize =(20, 20))\n",
        "  amount_found = len(found)\n",
        "\n",
        "  if amount_found != 0:\n",
        "    # For each possible walnut #\n",
        "    for (x, y, width, height) in found:      \n",
        "        # Draw a green rectangle around the walnut #\n",
        "        cv2.rectangle(frame, (x, y), (x + height, y + width), (0, 255, 0), 5)\n",
        "\n",
        "  # Remove squares around the objects we have squared #\n",
        "  cv2.destroyAllWindows()\n",
        "\n",
        "  # Stop loop is user presses 'q' button #\n",
        "  if cv2.waitKey(0) & 0xFF == ord('q'):\n",
        "    vs.release()\n",
        "    break"
      ],
      "metadata": {
        "id": "LAAt38S7Sryx"
      },
      "execution_count": null,
      "outputs": []
    }
  ]
}